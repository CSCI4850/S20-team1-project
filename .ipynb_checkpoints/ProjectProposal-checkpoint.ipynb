{
 "cells": [
  {
   "cell_type": "markdown",
   "metadata": {},
   "source": [
    "# Project Proposal: Team SARSA\n",
    "### Parking Lot Occupancy Detection\n",
    "#### Due Date: 02/27/2020\n",
    "**Group Members:** William Smith, Justin Hill, Girgis Shihataa, Michael Ketzner, Mubarek Mohammed, Carolous Ghobrial\n",
    "\n",
    "MTSU currently has a problem with green parking spots for all the students who commute to campus. The number of students commuting to MTSU increases every year and the problem hasn’t gone away. This results in a mass amount of students funneling into and circling around parking lots at very desired locations. The lots can be completely full, but students will continue to drive around hoping they come across an empty spot. The goal of our neural network is that it can identify the number of vehicles in a parking lot. The overall goal of our project is to connect with the MTSU mobile dev team. Working with them, we plan on having the application give a constant report on the occupancy of the parking lots across campus.\n",
    "\n",
    "The goal of the Neural Network is to be able to count the number of vehicles in a parking lot. There will be cameras mounted on posts inside the parking lots, approximately 20-50 feet high. These cameras will take a snapshot of the lots, once every minute or so, and the neural network will process the images to determine how many vehicles are currently either parked or driving around in the parking lots. From a little research, we found that Convolutional Neural Networks are the way to go when working with image classification. The twist in this project is that the images will involve the counting of multiple objects, multiple vehicles, so we’ll end up utilizing Faster R-CNNs or YOLO networks.\n",
    "\n",
    "There are multiple steps to this project, the first of which is vehicle detecting. This step in the project is to make sure that the neural network has the capability of detecting that a vehicle exists and that it can locate the vehicle(s), given an image. The next step of the project would be to train the neural network by giving it images of parking lots with cars, and see how many cars it can identify are in the parking lot. Once we have reached this step in our project, the neural network would be near completion depending on how much noise level it can work through before the network’s accuracy goes down. The final step before the completion of the neural network, is to test the network against images of parking lots from MTSU, and/or test it against images that contain as much noise as possible. In this project, situations of high levels of noise are going to include the weather, raining or snowing, and the visual accuracy of the camera. \n",
    "\n",
    "This project will be comprised of two data sets. The first set will consist of stock images of different models of cars comprised from different car makes, models and production years. The diverse dataset enhances the capability of CNN architecture to better identify cars compared to other modes of transportations like Bicycles and Motorcycles. The second set of data consists of aerial images of parking lots in a bird eye view context. Aerial images would consist of images taken from different angles as well as the time and weather condition of the day. For training purposes, we plan on using images with low amounts of noise in the beginning to better improve the accuracy of our neural network. This will allow us to be certain that the network has the capabilities of identifying a vehicle’s existence.\n",
    "\n",
    "For testing, we will utilize the prior stated data sets to determine an approximate number of vehicles parked or are inside the parking lot. A success would be determined after correctly approximating the exact number of cars observed. This would result in a quantitative number of parked cars that will be expected to be within eighty percent accuracy of the lots total capacity. Future testing would be having a continuous update of pictures of a lot and trying to have it dynamically adjust the total amount of vehicles parked and number of spots available. \n",
    "\n",
    "Our main goal for the neural network is to be within 85-95% accuracy given a reasonable amount of noise. This means that the network will approximate a number of vehicles close to, if not exactly, the number of vehicles inside a parking lot. Success and failure in this project are defined by the comparison of the actual number of vehicles in the lot, and the approximated number of vehicles. For example, if the network determines there are more vehicles in the parking lot than there really is, this will be counted as a major failure because it has started to greatly generalize the classes and isn’t effectively learning. On the other hand, if it determines that there are less vehicles in the lot than there really is, it will be counted as a minor failure because it means that the network is still learning."
   ]
  }
 ],
 "metadata": {
  "kernelspec": {
   "display_name": "Python 3",
   "language": "python",
   "name": "python3"
  },
  "language_info": {
   "codemirror_mode": {
    "name": "ipython",
    "version": 3
   },
   "file_extension": ".py",
   "mimetype": "text/x-python",
   "name": "python",
   "nbconvert_exporter": "python",
   "pygments_lexer": "ipython3",
   "version": "3.7.6"
  }
 },
 "nbformat": 4,
 "nbformat_minor": 4
}
