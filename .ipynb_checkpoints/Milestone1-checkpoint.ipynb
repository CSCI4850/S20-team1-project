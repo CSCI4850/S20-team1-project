{
 "cells": [
  {
   "cell_type": "markdown",
   "metadata": {},
   "source": [
    "# Project Milestone -- 1\n",
    "\n",
    "## Group 1 -- SARSA\n",
    "\n",
    "\n",
    "| Deliverable   | Percent Complete | Estimated Completion Date | Percent Complete by Next Milestone \n",
    "| --- | --- | --- | --- |\n",
    "| Code          | 0% | Apr 21 | 20% |\n",
    "| Paper         | 0% | Apr 21 | 10% |\n",
    "| Demo          | 0% | May 01 | 00% |\n",
    "| Presentation  | 0% | May 05 | 00% |\n",
    "\n",
    "\n",
    "1. What deliverable goals established in the last milestone report were accomplished to the anticipated percentage? \n",
    "--  N/A\n",
    "\n",
    "2. What deliverable goals established in the last milestone report were not accomplished to the anticipated percentage? \n",
    "-- N/A\n",
    "\n",
    "3. What are the main deliverable goals to meet before the next milestone report, and who is working on them?\n",
    "\n",
    "    Girgis Shihataa -- Create a Yolo V3 neural network that does a simple task/Practice building Yolo networks and see which functions work best.\n",
    "\n",
    "    William Smith -- Work on a Convolutional Neural Network that can binary classify vehicles (vehicle or not vehicle)\n",
    "\n",
    "    Justin Hill -- Work on a Faster-RCNN for similar data to the YoloV3 to do the same task so we can compare what is a better network to use for solving our task.- \n",
    "    \n",
    "    Michael Ketzner -- Train a CNN on the CNRPark dataset to see if we can detect empty/occupied parking spaces. It contains zoomed-in images of parking spaces labeled as busy or free.\n",
    "\n",
    "    Carolous Ghobrial -- Work on Yolo neural network for doing object detection in real-time and compare to other YOLO networks.\n",
    "\n",
    "    Mubarak Mohammed -- Work on a Convolutional Neural Network that is based on a Dataset provided by CIFAR-10 dataset. The dataset consists of images of random objects including automobile, truck, airplane,ship and many more. The idea behind the network is to differentiate a car from other objects. "
   ]
  }
 ],
 "metadata": {
  "kernelspec": {
   "display_name": "Python 3",
   "language": "python",
   "name": "python3"
  },
  "language_info": {
   "codemirror_mode": {
    "name": "ipython",
    "version": 3
   },
   "file_extension": ".py",
   "mimetype": "text/x-python",
   "name": "python",
   "nbconvert_exporter": "python",
   "pygments_lexer": "ipython3",
   "version": "3.7.6"
  }
 },
 "nbformat": 4,
 "nbformat_minor": 4
}
