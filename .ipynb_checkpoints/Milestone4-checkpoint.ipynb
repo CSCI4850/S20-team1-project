{
 "cells": [
  {
   "cell_type": "markdown",
   "metadata": {},
   "source": [
    "# Project Milestone -- 4\n",
    "\n",
    "## Group 1 -- SARSA\n",
    "\n",
    "\n",
    "| Deliverable   | Percent Complete | Estimated Completion Date | Percent Complete by Next Milestone \n",
    "| --- | --- | --- | --- |\n",
    "| Code          | 100% | Apr 23 | 100% |\n",
    "| Paper         | 100% | Apr 23 | 100% |\n",
    "| Demo          | 40% | May 03 | 100% |\n",
    "| Presentation  | 50% | May 03 | 100% |\n",
    "\n",
    "\n",
    "1. What deliverable goals established in the last milestone report were accomplished to the anticipated percentage? \n",
    "    \n",
    "    Our goals for the paper, demo and the presentation were achieved as predicted. We have finished the paper and the code portions. We are currently working on the demo and presentation.\n",
    "    \n",
    "\n",
    "2. What deliverable goals established in the last milestone report were not accomplished to the anticipated percentage? \n",
    "    \n",
    "    All of our predicted goals were met. \n",
    "\n",
    "\n",
    "3. What are the main deliverable goals to meet before the next milestone report, and who is working on them?\n",
    "\n",
    "    Girgis Shihataa -- Once paper is finished, work on demo with Michael.\n",
    "\n",
    "    William Smith -- Once paper is finished, work on demo with Michale\n",
    "\n",
    "    Justin Hill -- Finish building the presentation.\n",
    "    \n",
    "    Michael Ketzner -- Start building a demo for the neural network.\n",
    "\n",
    "    Carolous Ghobrial -- Finish building the presentation.\n",
    "\n",
    "    Mubarek Mohammed -- Finish building the presentation."
   ]
  }
 ],
 "metadata": {
  "kernelspec": {
   "display_name": "Python 3",
   "language": "python",
   "name": "python3"
  },
  "language_info": {
   "codemirror_mode": {
    "name": "ipython",
    "version": 3
   },
   "file_extension": ".py",
   "mimetype": "text/x-python",
   "name": "python",
   "nbconvert_exporter": "python",
   "pygments_lexer": "ipython3",
   "version": "3.7.6"
  }
 },
 "nbformat": 4,
 "nbformat_minor": 4
}
