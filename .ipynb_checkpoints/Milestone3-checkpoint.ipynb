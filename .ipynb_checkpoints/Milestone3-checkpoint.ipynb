{
 "cells": [
  {
   "cell_type": "markdown",
   "metadata": {},
   "source": [
    "# Project Milestone -- 3\n",
    "\n",
    "## Group 1 -- SARSA\n",
    "\n",
    "\n",
    "| Deliverable   | Percent Complete | Estimated Completion Date | Percent Complete by Next Milestone \n",
    "| --- | --- | --- | --- |\n",
    "| Code          | 50% | Apr 23 | 100% |\n",
    "| Paper         | 30% | Apr 23 | 100% |\n",
    "| Demo          | 20% | May 01 | 80% |\n",
    "| Presentation  | 20% | May 01 | 80% |\n",
    "\n",
    "\n",
    "1. What deliverable goals established in the last milestone report were accomplished to the anticipated percentage? \n",
    "    \n",
    "    Our goals for the paper, demo and the presentation were achieved as predicted. We have started on all three of those and added a bit.\n",
    "\n",
    "2. What deliverable goals established in the last milestone report were not accomplished to the anticipated percentage? \n",
    "    \n",
    "    The goal of our code was not fully accomplished. We have a working demo available, but we are still undecided on whether that portion of the code is what will be the final code. We are looking to research a little more on different possible networks that will work better in our case. \n",
    "\n",
    "\n",
    "3. What are the main deliverable goals to meet before the next milestone report, and who is working on them?\n",
    "\n",
    "    Girgis Shihataa -- Finish up research on the YoloV3 network. Finish up the paper portion of the project.\n",
    "\n",
    "    William Smith -- Working on the paper with Girgis.\n",
    "\n",
    "    Justin Hill -- Continue working on Yolo V3 and presentation.\n",
    "    \n",
    "    Michael Ketzner -- Continue working on the CNN with the CNR-Park dataset. I will also be experiamenting with a YOLO V3 network.\n",
    "\n",
    "    Carolous Ghobrial -- Continue working on the Yolo V3 network.\n",
    "\n",
    "    Mubarek Mohammed --  Continue working on the CNN incorporating the CNR-EXT_FULL_IMAGE dataset. "
   ]
  }
 ],
 "metadata": {
  "kernelspec": {
   "display_name": "Python 3",
   "language": "python",
   "name": "python3"
  },
  "language_info": {
   "codemirror_mode": {
    "name": "ipython",
    "version": 3
   },
   "file_extension": ".py",
   "mimetype": "text/x-python",
   "name": "python",
   "nbconvert_exporter": "python",
   "pygments_lexer": "ipython3",
   "version": "3.7.6"
  }
 },
 "nbformat": 4,
 "nbformat_minor": 4
}
