{
 "cells": [
  {
   "cell_type": "code",
   "execution_count": 59,
   "metadata": {
    "_cell_guid": "b1076dfc-b9ad-4769-8c92-a6c4dae69d19",
    "_uuid": "8f2839f25d086af736a60e9eeb907d3b93b6e0e5"
   },
   "outputs": [],
   "source": [
    "# This Python 3 environment comes with many helpful analytics libraries installed\n",
    "# It is defined by the kaggle/python docker image: https://github.com/kaggle/docker-python\n",
    "# For example, here's several helpful packages to load in \n",
    "\n",
    "import numpy as np # linear algebra\n",
    "import pandas as pd # data processing, CSV file I/O (e.g. pd.read_csv)\n",
    "\n",
    "# Input data files are available in the \"../input/\" directory.\n",
    "# For example, running this (by clicking run or pressing Shift+Enter) will list all files under the input directory\n",
    "\n",
    "import os"
   ]
  },
  {
   "cell_type": "code",
   "execution_count": 2,
   "metadata": {
    "_cell_guid": "79c7e3d0-c299-4dcb-8224-4455121ee9b0",
    "_uuid": "d629ff2d2480ee46fbb7e2d37f6b5fab8052498a"
   },
   "outputs": [
    {
     "name": "stderr",
     "output_type": "stream",
     "text": [
      "Using TensorFlow backend.\n"
     ]
    }
   ],
   "source": [
    "from keras.preprocessing.image import ImageDataGenerator\n",
    "import matplotlib.pyplot as plt\n",
    "# Technically not necessary in newest versions of jupyter\n",
    "%matplotlib inline"
   ]
  },
  {
   "cell_type": "code",
   "execution_count": 14,
   "metadata": {},
   "outputs": [],
   "source": [
    "image_shape = (150,150,3)"
   ]
  },
  {
   "cell_type": "code",
   "execution_count": 21,
   "metadata": {},
   "outputs": [],
   "source": [
    "from keras.models import Sequential\n",
    "from keras.layers import Conv2D, MaxPooling2D\n",
    "from keras.layers import Activation, Dropout, Flatten, Dense\n",
    "from keras import optimizers"
   ]
  },
  {
   "cell_type": "code",
   "execution_count": 45,
   "metadata": {},
   "outputs": [],
   "source": [
    "\n",
    "model = Sequential()\n",
    "model.add(Conv2D(32, (3, 3), input_shape=image_shape))\n",
    "model.add(Activation('relu'))\n",
    "model.add(MaxPooling2D(pool_size=(2, 2)))\n",
    "\n",
    "model.add(Conv2D(32, (3, 3)))\n",
    "model.add(Activation('relu'))\n",
    "model.add(MaxPooling2D(pool_size=(2, 2)))\n",
    "\n",
    "model.add(Conv2D(64, (3, 3)))\n",
    "model.add(Activation('relu'))\n",
    "model.add(MaxPooling2D(pool_size=(2, 2)))\n",
    "\n",
    "model.add(Flatten())  # this converts our 3D feature maps to 1D feature vectors\n",
    "model.add(Dense(64))\n",
    "model.add(Activation('relu'))\n",
    "model.add(Dropout(0.5))\n",
    "model.add(Dense(1))\n",
    "model.add(Activation('sigmoid'))\n",
    "\n",
    "model.compile(loss='binary_crossentropy',\n",
    "              optimizer=optimizers.SGD(lr=1e-4, momentum=0.9), metrics=['accuracy'])"
   ]
  },
  {
   "cell_type": "code",
   "execution_count": 46,
   "metadata": {},
   "outputs": [],
   "source": [
    "image_gen = ImageDataGenerator(rotation_range=90, # rotate the image 30 degrees\n",
    "                               #width_shift_range=0.1, # Shift the pic width by a max of 10%\n",
    "                               #height_shift_range=0.1, # Shift the pic height by a max of 10%\n",
    "                               rescale=1/255, # Rescale the image by normalzing it.\n",
    "                               #shear_range=0.2, # Shear means cutting away part of the image (max 20%)\n",
    "                               #zoom_range=0.2, # Zoom in by 20% max\n",
    "                               horizontal_flip=True, # Allo horizontal flipping\n",
    "                               #fill_mode='nearest' # Fill in missing pixels with the nearest filled value\n",
    "                               validation_split=0.2\n",
    "                              )"
   ]
  },
  {
   "cell_type": "code",
   "execution_count": 47,
   "metadata": {},
   "outputs": [
    {
     "name": "stdout",
     "output_type": "stream",
     "text": [
      "Found 10068 images belonging to 2 classes.\n"
     ]
    }
   ],
   "source": [
    "batch_size = 30\n",
    "\n",
    "train_image_gen = image_gen.flow_from_directory('../input/cnrpark/cnr-park/A/',\n",
    "                                               target_size=image_shape[:2],\n",
    "                                               batch_size=batch_size,\n",
    "                                               class_mode='binary',\n",
    "                                               subset='training')"
   ]
  },
  {
   "cell_type": "code",
   "execution_count": 48,
   "metadata": {},
   "outputs": [
    {
     "name": "stdout",
     "output_type": "stream",
     "text": [
      "Found 2516 images belonging to 2 classes.\n"
     ]
    }
   ],
   "source": [
    "test_image_gen = image_gen.flow_from_directory('../input/cnrpark/cnr-park/A',\n",
    "                                               target_size=image_shape[:2],\n",
    "                                               batch_size=batch_size,\n",
    "                                               class_mode='binary',\n",
    "                                               subset='validation')"
   ]
  },
  {
   "cell_type": "code",
   "execution_count": 49,
   "metadata": {},
   "outputs": [
    {
     "data": {
      "text/plain": [
       "{'busy': 0, 'free': 1}"
      ]
     },
     "execution_count": 49,
     "metadata": {},
     "output_type": "execute_result"
    }
   ],
   "source": [
    "train_image_gen.class_indices"
   ]
  },
  {
   "cell_type": "code",
   "execution_count": 51,
   "metadata": {},
   "outputs": [
    {
     "name": "stdout",
     "output_type": "stream",
     "text": [
      "Epoch 1/20\n",
      "1007/1006 [==============================] - 213s 212ms/step - loss: 0.6372 - accuracy: 0.6622 - val_loss: 0.6065 - val_accuracy: 0.6677\n",
      "Epoch 2/20\n",
      "1007/1006 [==============================] - 215s 214ms/step - loss: 0.6009 - accuracy: 0.6680 - val_loss: 0.5946 - val_accuracy: 0.6663\n",
      "Epoch 3/20\n",
      "1007/1006 [==============================] - 210s 209ms/step - loss: 0.5135 - accuracy: 0.7229 - val_loss: 0.3601 - val_accuracy: 0.8751\n",
      "Epoch 4/20\n",
      "1007/1006 [==============================] - 212s 210ms/step - loss: 0.3931 - accuracy: 0.8351 - val_loss: 0.2214 - val_accuracy: 0.9238\n",
      "Epoch 5/20\n",
      "1007/1006 [==============================] - 208s 207ms/step - loss: 0.3165 - accuracy: 0.8763 - val_loss: 0.0756 - val_accuracy: 0.9539\n",
      "Epoch 6/20\n",
      "1007/1006 [==============================] - 212s 211ms/step - loss: 0.2767 - accuracy: 0.8931 - val_loss: 0.1579 - val_accuracy: 0.9629\n",
      "Epoch 7/20\n",
      "1007/1006 [==============================] - 210s 208ms/step - loss: 0.2572 - accuracy: 0.9008 - val_loss: 0.2221 - val_accuracy: 0.9809\n",
      "Epoch 8/20\n",
      "1007/1006 [==============================] - 210s 208ms/step - loss: 0.2499 - accuracy: 0.9021 - val_loss: 0.0842 - val_accuracy: 0.9658\n",
      "Epoch 9/20\n",
      "1007/1006 [==============================] - 208s 207ms/step - loss: 0.2396 - accuracy: 0.9085 - val_loss: 0.1270 - val_accuracy: 0.9832\n",
      "Epoch 10/20\n",
      "1007/1006 [==============================] - 209s 208ms/step - loss: 0.2319 - accuracy: 0.9090 - val_loss: 0.2615 - val_accuracy: 0.9830\n",
      "Epoch 11/20\n",
      "1007/1006 [==============================] - 207s 206ms/step - loss: 0.2284 - accuracy: 0.9093 - val_loss: 0.0769 - val_accuracy: 0.9829\n",
      "Epoch 12/20\n",
      "1007/1006 [==============================] - 208s 207ms/step - loss: 0.2238 - accuracy: 0.9103 - val_loss: 0.1057 - val_accuracy: 0.9818\n",
      "Epoch 13/20\n",
      "1007/1006 [==============================] - 206s 204ms/step - loss: 0.2185 - accuracy: 0.9123 - val_loss: 0.1856 - val_accuracy: 0.9848\n",
      "Epoch 14/20\n",
      "1007/1006 [==============================] - 209s 208ms/step - loss: 0.2167 - accuracy: 0.9118 - val_loss: 0.0792 - val_accuracy: 0.9857\n",
      "Epoch 15/20\n",
      "1007/1006 [==============================] - 212s 210ms/step - loss: 0.2120 - accuracy: 0.9134 - val_loss: 0.0393 - val_accuracy: 0.9815\n",
      "Epoch 16/20\n",
      "1007/1006 [==============================] - 214s 213ms/step - loss: 0.2076 - accuracy: 0.9152 - val_loss: 0.1055 - val_accuracy: 0.9848\n",
      "Epoch 17/20\n",
      "1007/1006 [==============================] - 209s 208ms/step - loss: 0.2054 - accuracy: 0.9151 - val_loss: 0.0307 - val_accuracy: 0.9836\n",
      "Epoch 18/20\n",
      "1007/1006 [==============================] - 210s 208ms/step - loss: 0.2034 - accuracy: 0.9153 - val_loss: 0.0158 - val_accuracy: 0.9796\n",
      "Epoch 19/20\n",
      "1007/1006 [==============================] - 210s 208ms/step - loss: 0.2009 - accuracy: 0.9166 - val_loss: 0.0347 - val_accuracy: 0.9833\n",
      "Epoch 20/20\n",
      "1007/1006 [==============================] - 210s 209ms/step - loss: 0.2005 - accuracy: 0.9169 - val_loss: 0.0023 - val_accuracy: 0.9864\n"
     ]
    }
   ],
   "source": [
    "# history = model.fit_generator(train_image_gen,epochs=10,\n",
    "#                               steps_per_epoch=150,\n",
    "#                               validation_data=test_image_gen,\n",
    "#                              validation_steps=12)\n",
    "\n",
    "history = model.fit_generator(train_image_gen,epochs=20,\n",
    "                              steps_per_epoch=train_image_gen.samples/10,\n",
    "                              validation_data=test_image_gen,\n",
    "                             validation_steps=test_image_gen.samples/10)"
   ]
  },
  {
   "cell_type": "code",
   "execution_count": 57,
   "metadata": {},
   "outputs": [
    {
     "data": {
      "image/png": "[encoded data removed]",
      "text/plain": [
       "<Figure size 432x288 with 2 Axes>"
      ]
     },
     "metadata": {
      "needs_background": "light"
     },
     "output_type": "display_data"
    }
   ],
   "source": [
    "model.save('90valacc.h5')\n",
    "plt.figure(1)\n",
    "# summarize history for accuracy\n",
    "plt.subplot(211)\n",
    "plt.plot(history.history['val_accuracy'])\n",
    "plt.title('val accuracy')\n",
    "plt.ylabel('accuracy')\n",
    "plt.xlabel('epoch')\n",
    "plt.legend(['train', 'val'], loc='upper left')\n",
    "# summarize history for loss\n",
    "plt.subplot(212)\n",
    "plt.plot(history.history['val_loss'])\n",
    "plt.title('val loss')\n",
    "plt.ylabel('loss')\n",
    "plt.xlabel('epoch')\n",
    "plt.legend(['train', 'val'], loc='upper left')\n",
    "plt.tight_layout()\n",
    "plt.show()"
   ]
  },
  {
   "cell_type": "code",
   "execution_count": 34,
   "metadata": {},
   "outputs": [],
   "source": [
    "from keras.preprocessing import image"
   ]
  },
  {
   "cell_type": "markdown",
   "metadata": {},
   "source": [
    "![](http://)![](http://)"
   ]
  },
  {
   "cell_type": "code",
   "execution_count": 58,
   "metadata": {},
   "outputs": [
    {
     "name": "stdout",
     "output_type": "stream",
     "text": [
      "busy:  8172\n",
      "free:  209\n"
     ]
    }
   ],
   "source": [
    "# Predicting on all the busy images \n",
    "free = 0\n",
    "busy = 0\n",
    "for dirname, _, filenames in os.walk('/kaggle/input/cnrpark/cnr-park/A/busy/'):\n",
    "    for filename in filenames:\n",
    "        filepath = os.path.join(dirname, filename);\n",
    "        img = image.load_img(filepath, target_size=image_shape)\n",
    "        img = image.img_to_array(img)\n",
    "        img = img.reshape((-1, 150, 150, 3))\n",
    "\n",
    "        img.shape\n",
    "        for text, index in train_image_gen.class_indices.items():    # for name, age in dictionary.iteritems():  (for Python 2.x)\n",
    "            if index == model.predict(img)[0]:\n",
    "                if (text == \"free\"):\n",
    "                    free += 1\n",
    "                else:\n",
    "                    busy += 1\n",
    "print(\"busy: \", busy)\n",
    "print(\"free: \", free)\n",
    "        "
   ]
  },
  {
   "cell_type": "code",
   "execution_count": null,
   "metadata": {},
   "outputs": [],
   "source": [
    "# Predicting on all the free images \n",
    "free = 0\n",
    "busy = 0\n",
    "for dirname, _, filenames in os.walk('/kaggle/input/cnrpark/cnr-park/A/free/'):\n",
    "    for filename in filenames:\n",
    "        filepath = os.path.join(dirname, filename);\n",
    "        img = image.load_img(filepath, target_size=image_shape)\n",
    "        img = image.img_to_array(img)\n",
    "        img = img.reshape((-1, 150, 150, 3))\n",
    "\n",
    "        img.shape\n",
    "        for text, index in train_image_gen.class_indices.items():    # for name, age in dictionary.iteritems():  (for Python 2.x)\n",
    "            if index == model.predict(img)[0]:\n",
    "                if (text == \"free\"):\n",
    "                    free += 1\n",
    "                else:\n",
    "                    busy += 1\n",
    "print(\"busy: \", busy)\n",
    "print(\"free: \", free)\n",
    "        "
   ]
  }
 ],
 "metadata": {
  "kernelspec": {
   "display_name": "Python 3",
   "language": "python",
   "name": "python3"
  },
  "language_info": {
   "codemirror_mode": {
    "name": "ipython",
    "version": 3
   },
   "file_extension": ".py",
   "mimetype": "text/x-python",
   "name": "python",
   "nbconvert_exporter": "python",
   "pygments_lexer": "ipython3",
   "version": "3.7.6"
  }
 },
 "nbformat": 4,
 "nbformat_minor": 4
}
