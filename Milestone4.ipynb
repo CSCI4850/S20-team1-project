{
 "cells": [
  {
   "cell_type": "markdown",
   "metadata": {},
   "source": [
    "# Project Milestone -- 4\n",
    "\n",
    "## Group 1 -- SARSA\n",
    "\n",
    "\n",
    "| Deliverable   | Percent Complete | Estimated Completion Date | Percent Complete by Next Milestone \n",
    "| --- | --- | --- | --- |\n",
    "| Code          | 100% | Apr 23 | 100% |\n",
    "| Paper         | 100% | Apr 23 | 100% |\n",
    "| Demo          | 40% | May 03 | 100% |\n",
    "| Presentation  | 50% | May 03 | 100% |\n",
    "\n",
    "\n",
    "1. What deliverable goals established in the last milestone report were accomplished to the anticipated percentage? \n",
    "    \n",
    "    Our goals for the paper, demo and the presentation were achieved as predicted. We have started on all three of those and added a bit.\n",
    "    \n",
    "\n",
    "2. What deliverable goals established in the last milestone report were not accomplished to the anticipated percentage? \n",
    "    \n",
    "    The goal of our code was not fully accomplished. We have a working demo available, but we are still undecided on whether that portion of the code is what will be the final code. We are looking to research a little more on different possible networks that will work better in our case. \n",
    "\n",
    "\n",
    "3. What are the main deliverable goals to meet before the next milestone report, and who is working on them?\n",
    "\n",
    "    Girgis Shihataa -- Finish up research on the YoloV3 network. Finish up the paper portion of the project.\n",
    "\n",
    "    William Smith -- Working on the paper with Girgis.\n",
    "\n",
    "    Justin Hill -- Continue working on YoloV3 and presentation.\n",
    "    \n",
    "    Michael Ketzner -- I'll continue looking into working on a YOLO network and maybe work on an interface to monitor a parking lot with the current CNN that we have.\n",
    "\n",
    "    Carolous Ghobrial -- Continue working on the Yolo V3 network, and assist with the paper and presentation.\n",
    "\n",
    "    Mubarek Mohammed --  I am working the YOLOv3 architecture. I recently used a pre-trained model to classify cars and motorcycles. The next step I was planning was making the model architecture. I can also continue working on the CNN to diversify compared to everyone else work on YOLOv3."
   ]
  }
 ],
 "metadata": {
  "kernelspec": {
   "display_name": "Python 3",
   "language": "python",
   "name": "python3"
  },
  "language_info": {
   "codemirror_mode": {
    "name": "ipython",
    "version": 3
   },
   "file_extension": ".py",
   "mimetype": "text/x-python",
   "name": "python",
   "nbconvert_exporter": "python",
   "pygments_lexer": "ipython3",
   "version": "3.7.6"
  }
 },
 "nbformat": 4,
 "nbformat_minor": 4
}
