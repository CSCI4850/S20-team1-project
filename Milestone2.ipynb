{
 "cells": [
  {
   "cell_type": "markdown",
   "metadata": {},
   "source": [
    "# Project Milestone -- 2\n",
    "\n",
    "## Group 1 -- SARSA\n",
    "\n",
    "\n",
    "| Deliverable   | Percent Complete | Estimated Completion Date | Percent Complete by Next Milestone \n",
    "| --- | --- | --- | --- |\n",
    "| Code          | 20% | Apr 21 | 60% |\n",
    "| Paper         | 10% | Apr 21 | 30% |\n",
    "| Demo          | 10% | May 01 | 30% |\n",
    "| Presentation  | 10% | May 05 | 20% |\n",
    "\n",
    "\n",
    "1. What deliverable goals established in the last milestone report were accomplished to the anticipated percentage? \n",
    "    \n",
    "    Our goals for the code and paper that were set from last week were met. We also managed to get started on our demo and our presentation.\n",
    "\n",
    "2. What deliverable goals established in the last milestone report were not accomplished to the anticipated percentage? \n",
    "    \n",
    "    We met all of our goals established in the last milestone report and exceeded some as well.\n",
    "\n",
    "\n",
    "3. What are the main deliverable goals to meet before the next milestone report, and who is working on them?\n",
    "\n",
    "    Girgis Shihataa -- Continue working on my part of the YOLO V3 network, and build a mini presentation.\n",
    "\n",
    "    William Smith -- Work on a Convolutional Neural Network that can binary classify vehicles (vehicle or not vehicle).\n",
    "\n",
    "    Justin Hill -- Experiment with YOLO V3 network and begin prensentation \n",
    "    \n",
    "    Michael Ketzner -- Continue working on the CNN with the CNR-Park dataset. I will also be experiamenting with a YOLO V3 network.\n",
    "\n",
    "    Carolous Ghobrial -- Continue working on the YOLO V3 network.\n",
    "\n",
    "    Mubarek Mohammed --  Continue working on the CNN incorporating the CNR-EXT_FULL_IMAGE dataset. "
   ]
  }
 ],
 "metadata": {
  "kernelspec": {
   "display_name": "Python 3",
   "language": "python",
   "name": "python3"
  },
  "language_info": {
   "codemirror_mode": {
    "name": "ipython",
    "version": 3
   },
   "file_extension": ".py",
   "mimetype": "text/x-python",
   "name": "python",
   "nbconvert_exporter": "python",
   "pygments_lexer": "ipython3",
   "version": "3.7.6"
  }
 },
 "nbformat": 4,
 "nbformat_minor": 4
}
