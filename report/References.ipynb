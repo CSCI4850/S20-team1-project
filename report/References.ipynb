{
 "cells": [
  {
   "cell_type": "raw",
   "metadata": {},
   "source": [
    "@article{b1,\n",
    "  author = \"Adel Ammar, Anis Koubaa, Mohanned Ahmed, and Abdulrahman Saad\",\n",
    "   title = \"Aerial Images Processing for Car Detection using Convolutional Neural Networks: Comparison between Faster R-CNN and YoloV3\",\n",
    " journal = \"arXiv, Cornell University\",\n",
    "  volume = 1,\n",
    "    year = 2019\n",
    "}"
   ]
  },
  {
   "cell_type": "raw",
   "metadata": {},
   "source": [
    "@article{b2,\n",
    "  author = \"Francois Chollet\",\n",
    "   title = \"Building Powerful Image Classification Models Using Very Little Data\",\n",
    " journal = \"The Keras Blog\",\n",
    "    year = 2016\n",
    "}"
   ]
  },
  {
   "cell_type": "raw",
   "metadata": {},
   "source": [
    "@article{b3,\n",
    "  author = \"Giuseppe Amato, Fabio Carrara, Fabrizio Falchi, Claudio Gennaro, and Claudio Vairo\",\n",
    "   title = \"Car Parking Occupancy Detection Using Smart Camera Networks and Deep Learning\",\n",
    " journal = \"IEEE Xplore Digital Library\",\n",
    "    year = 2016\n",
    "}"
   ]
  }
 ],
 "metadata": {
  "kernelspec": {
   "display_name": "Python 3",
   "language": "python",
   "name": "python3"
  },
  "language_info": {
   "codemirror_mode": {
    "name": "ipython",
    "version": 3
   },
   "file_extension": ".py",
   "mimetype": "text/x-python",
   "name": "python",
   "nbconvert_exporter": "python",
   "pygments_lexer": "ipython3",
   "version": "3.7.6"
  }
 },
 "nbformat": 4,
 "nbformat_minor": 4
}
